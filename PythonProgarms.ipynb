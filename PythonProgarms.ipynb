{
  "nbformat": 4,
  "nbformat_minor": 0,
  "metadata": {
    "colab": {
      "provenance": []
    },
    "kernelspec": {
      "name": "python3",
      "display_name": "Python 3"
    },
    "language_info": {
      "name": "python"
    }
  },
  "cells": [
    {
      "cell_type": "code",
      "execution_count": null,
      "metadata": {
        "colab": {
          "base_uri": "https://localhost:8080/"
        },
        "id": "I2dTa2fiOFPP",
        "outputId": "3c7334b1-2808-4e56-866a-7f7e00b68046"
      },
      "outputs": [
        {
          "output_type": "stream",
          "name": "stdout",
          "text": [
            "1,2,3,4,5,"
          ]
        }
      ],
      "source": [
        "for i in range(1,6):\n",
        "   print(i,end = \",\")\n"
      ]
    },
    {
      "cell_type": "code",
      "source": [
        "\n",
        "i = 0\n",
        "while(i<= 4):\n",
        "   i = (i+1)\n",
        "   print(i)\n",
        "\n",
        "\n",
        "\n"
      ],
      "metadata": {
        "colab": {
          "base_uri": "https://localhost:8080/"
        },
        "id": "bJmfIABtP5cB",
        "outputId": "6b459725-fd5e-42c6-fb19-267e4fd6f51e"
      },
      "execution_count": null,
      "outputs": [
        {
          "output_type": "stream",
          "name": "stdout",
          "text": [
            "1\n",
            "2\n",
            "3\n",
            "4\n",
            "5\n"
          ]
        }
      ]
    },
    {
      "cell_type": "code",
      "source": [
        "#sum of first n odd numbers\n",
        "n=3\n",
        "if (n%2 != 0):\n",
        "  result = n**2\n",
        "  print(result)\n",
        "\n",
        "\n"
      ],
      "metadata": {
        "colab": {
          "base_uri": "https://localhost:8080/"
        },
        "id": "LUL9zRyKoYHI",
        "outputId": "09e40fa6-fe8b-4ebb-9cbd-414ef9964033"
      },
      "execution_count": null,
      "outputs": [
        {
          "output_type": "stream",
          "name": "stdout",
          "text": [
            "9\n"
          ]
        }
      ]
    },
    {
      "cell_type": "code",
      "source": [
        "j= 0\n",
        "for i in range(1,10):\n",
        "\n",
        "  if (i%2 != 0):\n",
        "     print(i)\n",
        "     j =  j+i\n",
        "print(j)\n",
        "\n",
        "\n"
      ],
      "metadata": {
        "colab": {
          "base_uri": "https://localhost:8080/"
        },
        "id": "TUD9_C1Fva_j",
        "outputId": "8ed91bc5-a47e-44bf-a6c9-333823758a97"
      },
      "execution_count": null,
      "outputs": [
        {
          "output_type": "stream",
          "name": "stdout",
          "text": [
            "1\n",
            "3\n",
            "5\n",
            "7\n",
            "9\n",
            "25\n"
          ]
        }
      ]
    },
    {
      "cell_type": "code",
      "source": [
        "#print multiples of nth number\n",
        "n = input('please enter the number')\n",
        "for i in range(1,21):\n",
        "  multiple = ( int(n) * i )\n",
        "  print(str(int(n)) +'*'+ str(i) + '=' + str(multiple))"
      ],
      "metadata": {
        "colab": {
          "base_uri": "https://localhost:8080/"
        },
        "id": "etjy5PkNJ4rY",
        "outputId": "c7f682e6-cfa5-4530-f482-db3dd4bfec27"
      },
      "execution_count": null,
      "outputs": [
        {
          "output_type": "stream",
          "name": "stdout",
          "text": [
            "please enter the number2\n",
            "2*1=2\n",
            "2*2=4\n",
            "2*3=6\n",
            "2*4=8\n",
            "2*5=10\n",
            "2*6=12\n",
            "2*7=14\n",
            "2*8=16\n",
            "2*9=18\n",
            "2*10=20\n",
            "2*11=22\n",
            "2*12=24\n",
            "2*13=26\n",
            "2*14=28\n",
            "2*15=30\n",
            "2*16=32\n",
            "2*17=34\n",
            "2*18=36\n",
            "2*19=38\n",
            "2*20=40\n"
          ]
        }
      ]
    },
    {
      "cell_type": "code",
      "source": [
        "#print multiples of nth number\n",
        "n = input('please enter the number')\n",
        "for i in range(1,21):\n",
        "  print(str(n)+ '*' + str(i) + '=' + str(int(n)*i),'\\n')"
      ],
      "metadata": {
        "colab": {
          "base_uri": "https://localhost:8080/"
        },
        "id": "_qVwsVVoNT__",
        "outputId": "fc6fbb6f-4244-4b1b-eeb9-430accaee99e"
      },
      "execution_count": null,
      "outputs": [
        {
          "output_type": "stream",
          "name": "stdout",
          "text": [
            "please enter the number2\n",
            "2*1=2 \n",
            "\n",
            "2*2=4 \n",
            "\n",
            "2*3=6 \n",
            "\n",
            "2*4=8 \n",
            "\n",
            "2*5=10 \n",
            "\n",
            "2*6=12 \n",
            "\n",
            "2*7=14 \n",
            "\n",
            "2*8=16 \n",
            "\n",
            "2*9=18 \n",
            "\n",
            "2*10=20 \n",
            "\n",
            "2*11=22 \n",
            "\n",
            "2*12=24 \n",
            "\n",
            "2*13=26 \n",
            "\n",
            "2*14=28 \n",
            "\n",
            "2*15=30 \n",
            "\n",
            "2*16=32 \n",
            "\n",
            "2*17=34 \n",
            "\n",
            "2*18=36 \n",
            "\n",
            "2*19=38 \n",
            "\n",
            "2*20=40 \n",
            "\n"
          ]
        }
      ]
    },
    {
      "cell_type": "code",
      "source": [
        "#failed palindrome\n",
        "user_input = input('please enter the string')\n",
        "output_palin = sorted(user_input, reverse = True)\n",
        "print(''.join(output_palin))\n"
      ],
      "metadata": {
        "colab": {
          "base_uri": "https://localhost:8080/"
        },
        "id": "TyAzTsE_JJdU",
        "outputId": "32290b69-f9f2-4751-98fa-c3d8c61364a8"
      },
      "execution_count": null,
      "outputs": [
        {
          "output_type": "stream",
          "name": "stdout",
          "text": [
            "please enter the stringlevel\n",
            "vllee\n"
          ]
        }
      ]
    },
    {
      "cell_type": "markdown",
      "source": [
        "1. Palindrome cannot be performed by using sorted function\n",
        "2. Sorted function always result a list whatever the input may whether its a list, tuple, string.\n",
        "3. We can convert list to tuple using tuple() function and convert in to string using ''.join()\n"
      ],
      "metadata": {
        "id": "XUwaH3ijRxjj"
      }
    },
    {
      "cell_type": "code",
      "source": [
        "#palindrome\n",
        "user_input = input('please enter the string: ')\n",
        "output_palin = user_input[ : : -1]\n",
        "if user_input == output_palin:\n",
        "  print('the input is a palindrome:', output_palin)\n",
        "else:\n",
        "  print('the input is not a palindrome:', output_palin)\n",
        "\n"
      ],
      "metadata": {
        "colab": {
          "base_uri": "https://localhost:8080/"
        },
        "id": "iYe5QVN5NTUA",
        "outputId": "30a343e7-6755-4564-e806-463963d81d52"
      },
      "execution_count": null,
      "outputs": [
        {
          "output_type": "stream",
          "name": "stdout",
          "text": [
            "please enter the string: rachana\n",
            "the input is not a palindrome: anahcar\n"
          ]
        }
      ]
    },
    {
      "cell_type": "code",
      "source": [
        "#occurance of a word\n",
        "def wordcount(word):\n",
        "  if word.lower() in userinput.lower():\n",
        "    count_word = userinput.lower().count(word.lower())\n",
        "  else:\n",
        "    print('word not found')\n",
        "    count_word = 0\n",
        "  return count_word\n",
        "\n",
        "\n",
        "userinput = input('enter the sentence - ')\n",
        "word = input('enter the word to be searched - ')\n",
        "print(wordcount(word))"
      ],
      "metadata": {
        "colab": {
          "base_uri": "https://localhost:8080/"
        },
        "id": "2DVH0PjY2V5e",
        "outputId": "39ad742a-2616-4a7f-c040-6c1e0dd1ee38"
      },
      "execution_count": null,
      "outputs": [
        {
          "output_type": "stream",
          "name": "stdout",
          "text": [
            "enter the sentence - hi i'm Rachana\n",
            "enter the word to be searched - rachana\n",
            "1\n"
          ]
        }
      ]
    },
    {
      "cell_type": "code",
      "source": [
        "#occurance of a word\n",
        "def wordcount(word):\n",
        "  if word.lower() in userinput.lower():\n",
        "    count_word = userinput.lower().count(word.lower())\n",
        "  else:\n",
        "    print('word not found')\n",
        "    count_word = 0\n",
        "  return count_word\n",
        "\n",
        "\n",
        "userinput = input('enter the sentence - ')\n",
        "word = input('enter the word to be searched - ')\n",
        "print(wordcount(word))"
      ],
      "metadata": {
        "id": "lg1aBjH7xnze"
      },
      "execution_count": null,
      "outputs": []
    },
    {
      "cell_type": "code",
      "source": [
        "import re\n",
        "#find the repeating words in a sentence\n",
        "def wordcount(paragraph):\n",
        "  cleanedparagraph = re.sub(r'[^\\w\\s]', '', paragraph.lower())\n",
        "  words = cleanedparagraph.split()\n",
        "  word_count = { }\n",
        "  for word in words:\n",
        "    if word in word_count:\n",
        "      word_count[word] += 1\n",
        "    else:\n",
        "      word_count[word] = 1\n",
        "\n",
        "  for word, count in word_count.items():\n",
        "     if count >= 1:\n",
        "      print(f\"{word} - {count}\")\n",
        "\n",
        "  max_word = max(word_count, key=word_count.get)\n",
        "  max_count = word_count[max_word]\n",
        "\n",
        "  return max_word, max_count\n",
        "\n",
        "paragraph = input('enter the Paragraph - ')\n",
        "print(wordcount(paragraph))\n",
        "\n"
      ],
      "metadata": {
        "id": "u9DXimkasT25",
        "colab": {
          "base_uri": "https://localhost:8080/"
        },
        "outputId": "69cef992-d746-4076-c0c1-f8398656a31a"
      },
      "execution_count": null,
      "outputs": [
        {
          "output_type": "stream",
          "name": "stdout",
          "text": [
            "enter the Paragraph - Notice that the word \"words.\" is printed with the period at the end. The end is end\n",
            "notice - 1\n",
            "that - 1\n",
            "the - 4\n",
            "word - 1\n",
            "words - 1\n",
            "is - 2\n",
            "printed - 1\n",
            "with - 1\n",
            "period - 1\n",
            "at - 1\n",
            "end - 3\n",
            "('the', 4)\n"
          ]
        }
      ]
    },
    {
      "cell_type": "code",
      "source": [
        "#Character Frequency in a String\n",
        "def charcount(string):\n",
        "  cleanedstring = re.sub(r'\\W+', '', string.lower())\n",
        "  sortedstring = sorted(cleanedstring)\n",
        "  char_count = { }\n",
        "  for character in string:\n",
        "    if character in char_count:\n",
        "      char_count[character] += 1\n",
        "    else:\n",
        "      char_count[character] = 1\n",
        "\n",
        "  for character, count in char_count.items():\n",
        "    print(f'{character} - {count}')\n",
        "\n",
        "  return ' '\n",
        "\n",
        "\n",
        "string = input('please enter the string: ')\n",
        "print(charcount(string))"
      ],
      "metadata": {
        "colab": {
          "base_uri": "https://localhost:8080/"
        },
        "id": "RzvR82ym6GPc",
        "outputId": "0dd604f3-1e4f-4a44-baac-8570a02c38fc"
      },
      "execution_count": null,
      "outputs": [
        {
          "output_type": "stream",
          "name": "stdout",
          "text": [
            "please enter the string: dheepak\n",
            "d - 1\n",
            "h - 1\n",
            "e - 2\n",
            "p - 1\n",
            "a - 1\n",
            "k - 1\n",
            " \n"
          ]
        }
      ]
    },
    {
      "cell_type": "code",
      "source": [
        "#Merge and Sort Lists\n",
        "list1 = ['apple', 'banana', 'orange', 'apple']\n",
        "list2 = ['brinjal', 'carrot', 'potato']\n",
        "mergelist = list1 + list2\n",
        "sortedlist = sorted(mergelist, key=lambda x: (len(x), x.lower()))\n",
        "print(sortedlist)"
      ],
      "metadata": {
        "colab": {
          "base_uri": "https://localhost:8080/"
        },
        "id": "bYe3N5RNg1ex",
        "outputId": "6370ab13-bfba-4760-feaa-7743d6bd1b05"
      },
      "execution_count": null,
      "outputs": [
        {
          "output_type": "stream",
          "name": "stdout",
          "text": [
            "['apple', 'apple', 'banana', 'carrot', 'orange', 'potato', 'brinjal']\n"
          ]
        }
      ]
    },
    {
      "cell_type": "code",
      "source": [
        "#generating 2024 decimal values of the value pi\n",
        "from decimal import Decimal, getcontext\n",
        "\n",
        "getcontext().prec = 2024\n",
        "result = Decimal(22) / Decimal(7)\n",
        "print(result)\n",
        "print(type(result))\n"
      ],
      "metadata": {
        "colab": {
          "base_uri": "https://localhost:8080/"
        },
        "id": "vbyNqGcrs9Ez",
        "outputId": "132af2e1-d477-4302-db5f-1c38d64d26ce"
      },
      "execution_count": null,
      "outputs": [
        {
          "output_type": "stream",
          "name": "stdout",
          "text": [
            "3.1428571428571428571428571428571428571428571428571428571428571428571428571428571428571428571428571428571428571428571428571428571428571428571428571428571428571428571428571428571428571428571428571428571428571428571428571428571428571428571428571428571428571428571428571428571428571428571428571428571428571428571428571428571428571428571428571428571428571428571428571428571428571428571428571428571428571428571428571428571428571428571428571428571428571428571428571428571428571428571428571428571428571428571428571428571428571428571428571428571428571428571428571428571428571428571428571428571428571428571428571428571428571428571428571428571428571428571428571428571428571428571428571428571428571428571428571428571428571428571428571428571428571428571428571428571428571428571428571428571428571428571428571428571428571428571428571428571428571428571428571428571428571428571428571428571428571428571428571428571428571428571428571428571428571428571428571428571428571428571428571428571428571428571428571428571428571428571428571428571428571428571428571428571428571428571428571428571428571428571428571428571428571428571428571428571428571428571428571428571428571428571428571428571428571428571428571428571428571428571428571428571428571428571428571428571428571428571428571428571428571428571428571428571428571428571428571428571428571428571428571428571428571428571428571428571428571428571428571428571428571428571428571428571428571428571428571428571428571428571428571428571428571428571428571428571428571428571428571428571428571428571428571428571428571428571428571428571428571428571428571428571428571428571428571428571428571428571428571428571428571428571428571428571428571428571428571428571428571428571428571428571428571428571428571428571428571428571428571428571428571428571428571428571428571428571428571428571428571428571428571428571428571428571428571428571428571428571428571428571428571428571428571428571428571428571428571428571428571428571428571428571428571428571428571428571428571428571428571428571428571428571428571428571428571428571428571428571\n",
            "<class 'decimal.Decimal'>\n"
          ]
        }
      ]
    }
  ]
}